{
 "cells": [
  {
   "cell_type": "markdown",
   "metadata": {},
   "source": [
    "# Documentation"
   ]
  },
  {
   "cell_type": "markdown",
   "metadata": {},
   "source": [
    "# Imports"
   ]
  },
  {
   "cell_type": "code",
   "execution_count": 1,
   "metadata": {},
   "outputs": [
    {
     "name": "stdout",
     "output_type": "stream",
     "text": [
      "Requirement already satisfied: nltk in /home/celesde/.virtualenvs/redeneural-engine-env/lib/python3.7/site-packages (3.6.5)\n",
      "Requirement already satisfied: tqdm in /home/celesde/.virtualenvs/redeneural-engine-env/lib/python3.7/site-packages (from nltk) (4.62.3)\n",
      "Requirement already satisfied: click in /home/celesde/.virtualenvs/redeneural-engine-env/lib/python3.7/site-packages (from nltk) (8.0.3)\n",
      "Requirement already satisfied: joblib in /home/celesde/.virtualenvs/redeneural-engine-env/lib/python3.7/site-packages (from nltk) (1.1.0)\n",
      "Requirement already satisfied: regex>=2021.8.3 in /home/celesde/.virtualenvs/redeneural-engine-env/lib/python3.7/site-packages (from nltk) (2021.11.10)\n",
      "Requirement already satisfied: importlib-metadata in /home/celesde/.virtualenvs/redeneural-engine-env/lib/python3.7/site-packages (from click->nltk) (4.8.2)\n",
      "Requirement already satisfied: zipp>=0.5 in /home/celesde/.virtualenvs/redeneural-engine-env/lib/python3.7/site-packages (from importlib-metadata->click->nltk) (3.6.0)\n",
      "Requirement already satisfied: typing-extensions>=3.6.4 in /home/celesde/.virtualenvs/redeneural-engine-env/lib/python3.7/site-packages (from importlib-metadata->click->nltk) (3.10.0.2)\n",
      "\u001b[33mWARNING: You are using pip version 21.2.4; however, version 21.3.1 is available.\n",
      "You should consider upgrading via the '/home/celesde/.virtualenvs/redeneural-engine-env/bin/python -m pip install --upgrade pip' command.\u001b[0m\n",
      "Requirement already satisfied: sklearn in /home/celesde/.virtualenvs/redeneural-engine-env/lib/python3.7/site-packages (0.0)\n",
      "Requirement already satisfied: scikit-learn in /home/celesde/.virtualenvs/redeneural-engine-env/lib/python3.7/site-packages (from sklearn) (1.0.1)\n",
      "Requirement already satisfied: numpy>=1.14.6 in /home/celesde/.virtualenvs/redeneural-engine-env/lib/python3.7/site-packages (from scikit-learn->sklearn) (1.21.4)\n",
      "Requirement already satisfied: threadpoolctl>=2.0.0 in /home/celesde/.virtualenvs/redeneural-engine-env/lib/python3.7/site-packages (from scikit-learn->sklearn) (3.0.0)\n",
      "Requirement already satisfied: scipy>=1.1.0 in /home/celesde/.virtualenvs/redeneural-engine-env/lib/python3.7/site-packages (from scikit-learn->sklearn) (1.7.2)\n",
      "Requirement already satisfied: joblib>=0.11 in /home/celesde/.virtualenvs/redeneural-engine-env/lib/python3.7/site-packages (from scikit-learn->sklearn) (1.1.0)\n",
      "\u001b[33mWARNING: You are using pip version 21.2.4; however, version 21.3.1 is available.\n",
      "You should consider upgrading via the '/home/celesde/.virtualenvs/redeneural-engine-env/bin/python -m pip install --upgrade pip' command.\u001b[0m\n"
     ]
    }
   ],
   "source": [
    "import marvin_redeneural_engine\n",
    "from marvin_python_toolbox.common.data import MarvinData\n",
    "import sys \n",
    "!{sys.executable} -m pip install nltk \n",
    "!{sys.executable} -m pip install sklearn"
   ]
  },
  {
   "cell_type": "markdown",
   "metadata": {},
   "source": [
    "# Acquisitor and Cleaning"
   ]
  },
  {
   "cell_type": "code",
   "execution_count": 2,
   "metadata": {
    "marvin_cell": "acquisitor"
   },
   "outputs": [],
   "source": [
    "from marvin_python_toolbox.common.data import MarvinData\n",
    "import pandas as pd\n",
    "import nltk\n",
    "from nltk.corpus import stopwords\n",
    "\n",
    "products_data = pd.read_csv(MarvinData.download_file(\"https://s3.amazonaws.com/automl-example/produtos.csv\"), delimiter=';', encoding='utf-8')\n",
    "# concatenando as colunas nome e descricao\n",
    "products_data['informacao'] = products_data['nome'] + products_data['descricao']\n",
    "# excluindo linhas com valor de informacao ou categoria NaN\n",
    "products_data.dropna(subset=['informacao', 'categoria'], inplace=True)\n",
    "products_data.drop(columns=['nome', 'descricao'], inplace=True)\n",
    "\n",
    "stop_words=set(stopwords.words(\"portuguese\"))\n",
    "# transforma a string em caixa baixa e remove stopwords\n",
    "products_data['sem_stopwords'] = products_data['informacao'].str.lower().apply(lambda x: ' '.join([word for word in x.split() if word not in (stop_words)]))\n",
    "\n",
    "tokenizer = nltk.RegexpTokenizer(r\"\\w+\")\n",
    "products_data['tokens'] = products_data['sem_stopwords'].apply(tokenizer.tokenize) # aplica o regex tokenizer\n",
    "products_data.drop(columns=['sem_stopwords','informacao'],inplace=True) # Exclui as colunas antigas\n",
    "\n",
    "products_data[\"strings\"]= products_data[\"tokens\"].str.join(\" \") # reunindo cada elemento da lista\n",
    "products_data.head()\n",
    "marvin_initial_dataset = products_data\n"
   ]
  },
  {
   "cell_type": "markdown",
   "metadata": {},
   "source": [
    "# Traning Preparator"
   ]
  },
  {
   "cell_type": "code",
   "execution_count": 3,
   "metadata": {
    "marvin_cell": "tpreparator"
   },
   "outputs": [],
   "source": [
    "from sklearn.model_selection import train_test_split\n",
    "from sklearn.feature_extraction.text import TfidfVectorizer\n",
    "\n",
    "X_train,X_test,y_train,y_test = train_test_split( # Separação dos dados para teste e treino\n",
    "    marvin_initial_dataset[\"strings\"], \n",
    "    marvin_initial_dataset[\"categoria\"], \n",
    "    test_size = 0.2, \n",
    "    random_state = 10\n",
    ")\n",
    "\n",
    "# Converte as strings para uma matriz de contagem dos tokens\n",
    "vect = TfidfVectorizer()\n",
    "vect.fit(marvin_initial_dataset[\"strings\"])\n",
    "\n",
    "marvin_dataset = { \n",
    "    \"X_train\": vect.fit_transform(X_train), # extrai o vocabulário dos dados \n",
    "    \"X_test\": vect.transform(X_test),  # transforma os dados de acordo com o vocabulário\n",
    "    \"y_train\": y_train,\n",
    "    \"y_test\" : y_test,\n",
    "    \"vect\": vect\n",
    "}"
   ]
  },
  {
   "cell_type": "markdown",
   "metadata": {},
   "source": [
    "# Trainer"
   ]
  },
  {
   "cell_type": "code",
   "execution_count": 4,
   "metadata": {
    "marvin_cell": "trainer"
   },
   "outputs": [
    {
     "name": "stdout",
     "output_type": "stream",
     "text": [
      "RUNNING THE L-BFGS-B CODE\n",
      "\n",
      "           * * *\n",
      "\n",
      "Machine precision = 2.220D-16\n",
      " N =      2249174     M =           10\n",
      "\n",
      "At X0         0 variables are exactly at the bounds\n",
      "\n",
      "At iterate    0    f=  1.38741D+00    |proj g|=  5.36022D-02\n"
     ]
    },
    {
     "name": "stderr",
     "output_type": "stream",
     "text": [
      " This problem is unconstrained.\n"
     ]
    },
    {
     "name": "stdout",
     "output_type": "stream",
     "text": [
      "\n",
      "At iterate    1    f=  1.38674D+00    |proj g|=  1.24442D-01\n",
      "\n",
      "At iterate    2    f=  1.34109D+00    |proj g|=  3.04135D-02\n",
      "\n",
      "At iterate    3    f=  1.30997D+00    |proj g|=  2.98266D-02\n",
      "\n",
      "At iterate    4    f=  1.23044D+00    |proj g|=  1.01605D-01\n",
      "\n",
      "At iterate    5    f=  1.05492D+00    |proj g|=  1.85251D-01\n",
      "\n",
      "At iterate    6    f=  5.35893D-01    |proj g|=  3.29356D-01\n",
      "\n",
      "At iterate    7    f=  4.53995D-01    |proj g|=  2.98525D-01\n",
      "\n",
      "At iterate    8    f=  3.65029D-01    |proj g|=  8.47277D-02\n",
      "\n",
      "At iterate    9    f=  3.34068D-01    |proj g|=  9.19654D-02\n",
      "\n",
      "At iterate   10    f=  2.91214D-01    |proj g|=  9.74550D-02\n",
      "\n",
      "At iterate   11    f=  2.50417D-01    |proj g|=  6.39296D-02\n",
      "\n",
      "At iterate   12    f=  1.91825D-01    |proj g|=  3.40539D-02\n",
      "\n",
      "At iterate   13    f=  1.44194D-01    |proj g|=  2.22013D-02\n",
      "\n",
      "At iterate   14    f=  9.15443D-02    |proj g|=  2.46002D-02\n",
      "\n",
      "At iterate   15    f=  4.18777D-02    |proj g|=  1.30147D-02\n",
      "\n",
      "At iterate   16    f=  3.17063D-02    |proj g|=  5.30210D-02\n",
      "\n",
      "At iterate   17    f=  2.11232D-02    |proj g|=  1.50623D-02\n",
      "\n",
      "At iterate   18    f=  1.55539D-02    |proj g|=  4.87555D-03\n",
      "\n",
      "At iterate   19    f=  9.74277D-03    |proj g|=  7.07115D-03\n",
      "\n",
      "At iterate   20    f=  5.50639D-03    |proj g|=  1.67156D-03\n",
      "\n",
      "At iterate   21    f=  3.69124D-03    |proj g|=  1.74051D-02\n",
      "\n",
      "At iterate   22    f=  1.10985D-03    |proj g|=  4.83587D-03\n",
      "\n",
      "At iterate   23    f=  6.38842D-04    |proj g|=  2.44407D-03\n",
      "\n",
      "At iterate   24    f=  3.05108D-04    |proj g|=  8.76712D-04\n",
      "\n",
      "At iterate   25    f=  1.50316D-04    |proj g|=  2.52559D-04\n",
      "\n",
      "At iterate   26    f=  7.47764D-05    |proj g|=  4.77270D-05\n",
      "\n",
      "           * * *\n",
      "\n",
      "Tit   = total number of iterations\n",
      "Tnf   = total number of function evaluations\n",
      "Tnint = total number of segments explored during Cauchy searches\n",
      "Skip  = number of BFGS updates skipped\n",
      "Nact  = number of active bounds at final generalized Cauchy point\n",
      "Projg = norm of the final projected gradient\n",
      "F     = final function value\n",
      "\n",
      "           * * *\n",
      "\n",
      "   N    Tit     Tnf  Tnint  Skip  Nact     Projg        F\n",
      "*****     26     29      1     0     0   4.773D-05   7.478D-05\n",
      "  F =   7.4776354044195576E-005\n",
      "\n",
      "CONVERGENCE: NORM_OF_PROJECTED_GRADIENT_<=_PGTOL            \n"
     ]
    }
   ],
   "source": [
    "# Uma rede neural Perceptron Multicamadas\n",
    "from sklearn.neural_network import MLPClassifier\n",
    "clf = MLPClassifier(solver='lbfgs', alpha=1e-5, hidden_layer_sizes=(70, ), random_state=1, verbose=True)\n",
    "clf.fit(marvin_dataset[\"X_train\"], marvin_dataset[\"y_train\"]) # Treino do classificador\n",
    "\n",
    "marvin_model = {\n",
    "    \"clf\" : clf,\n",
    "    \"vect\": marvin_dataset[\"vect\"]\n",
    "}\n"
   ]
  },
  {
   "cell_type": "markdown",
   "metadata": {},
   "source": [
    "# Metrics Evaluator"
   ]
  },
  {
   "cell_type": "code",
   "execution_count": 5,
   "metadata": {
    "marvin_cell": "evaluator"
   },
   "outputs": [
    {
     "name": "stdout",
     "output_type": "stream",
     "text": [
      "0.9845890410958904\n"
     ]
    }
   ],
   "source": [
    "from sklearn.metrics import accuracy_score\n",
    "from sklearn import metrics\n",
    "# Multinomial NB\n",
    "y_prediction = marvin_model[\"clf\"].predict(marvin_dataset[\"X_test\"])\n",
    "accuracy = accuracy_score(y_prediction, marvin_dataset[\"y_test\"])\n",
    "\n",
    "print(accuracy)\n",
    "marvin_metrics = accuracy"
   ]
  },
  {
   "cell_type": "code",
   "execution_count": 6,
   "metadata": {},
   "outputs": [],
   "source": [
    "input_message = [\"Figura Transformers Prime War Deluxe - E9687 - Hasbro\"]"
   ]
  },
  {
   "cell_type": "markdown",
   "metadata": {},
   "source": [
    "# Prediction Preparator"
   ]
  },
  {
   "cell_type": "code",
   "execution_count": 7,
   "metadata": {
    "marvin_cell": "ppreparator"
   },
   "outputs": [
    {
     "name": "stdout",
     "output_type": "stream",
     "text": [
      "['Figura Transformers Prime War Deluxe - E9687 - Hasbro']\n"
     ]
    }
   ],
   "source": [
    "print(input_message)\n",
    "input_message = marvin_model[\"vect\"].transform(input_message)"
   ]
  },
  {
   "cell_type": "markdown",
   "metadata": {},
   "source": [
    "# Predictor"
   ]
  },
  {
   "cell_type": "code",
   "execution_count": 8,
   "metadata": {
    "marvin_cell": "predictor"
   },
   "outputs": [
    {
     "name": "stdout",
     "output_type": "stream",
     "text": [
      "Predicted value: brinquedo\n"
     ]
    }
   ],
   "source": [
    "final_prediction = marvin_model[\"clf\"].predict(input_message)[0]\n",
    "print(\"Predicted value: \" + final_prediction)"
   ]
  }
 ],
 "metadata": {
  "kernelspec": {
   "display_name": "Python 3 (ipykernel)",
   "language": "python",
   "name": "python3"
  },
  "language_info": {
   "codemirror_mode": {
    "name": "ipython",
    "version": 3
   },
   "file_extension": ".py",
   "mimetype": "text/x-python",
   "name": "python",
   "nbconvert_exporter": "python",
   "pygments_lexer": "ipython3",
   "version": "3.7.3"
  }
 },
 "nbformat": 4,
 "nbformat_minor": 1
}
